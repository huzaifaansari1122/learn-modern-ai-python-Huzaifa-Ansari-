{
  "nbformat": 4,
  "nbformat_minor": 0,
  "metadata": {
    "colab": {
      "provenance": [],
      "authorship_tag": "ABX9TyPOe6cFy4ehboSCvetAgGnW",
      "include_colab_link": true
    },
    "kernelspec": {
      "name": "python3",
      "display_name": "Python 3"
    },
    "language_info": {
      "name": "python"
    }
  },
  "cells": [
    {
      "cell_type": "markdown",
      "metadata": {
        "id": "view-in-github",
        "colab_type": "text"
      },
      "source": [
        "<a href=\"https://colab.research.google.com/github/huzaifaansari1122/learn-modern-ai-python-Huzaifa-Ansari-/blob/main/Python_Compulsory_Proj.ipynb\" target=\"_parent\"><img src=\"https://colab.research.google.com/assets/colab-badge.svg\" alt=\"Open In Colab\"/></a>"
      ]
    },
    {
      "cell_type": "code",
      "execution_count": null,
      "metadata": {
        "colab": {
          "base_uri": "https://localhost:8080/"
        },
        "id": "6Al43AzQooyj",
        "outputId": "d62a612c-b2ac-4c6e-b9fd-1251f29a1100"
      },
      "outputs": [
        {
          "output_type": "stream",
          "name": "stdout",
          "text": [
            "Enter a place: Zoo\n",
            "Enter an animal: Monkey \n",
            "Enter an adjective: Clever \n",
            "Enter a verb ending in -ing: Dancing \n",
            "Enter a type of food: Bananas \n",
            "\n",
            "Your Mad Libs Story:\n",
            "Yesterday, I went to the Zoo and saw a Clever  Monkey . It was Dancing  happily while eating a Bananas .\n"
          ]
        }
      ],
      "source": [
        "# Step 1: Ask the user for words\n",
        "place = input(\"Enter a place: \")\n",
        "\n",
        "animal = input(\"Enter an animal: \")\n",
        "adjective = input(\"Enter an adjective: \")\n",
        "verb = input(\"Enter a verb ending in -ing: \")\n",
        "food = input(\"Enter a type of food: \")\n",
        "\n",
        "# Step 2: Create the story with user input\n",
        "story = f\"Yesterday, I went to the {place} and saw a {adjective} {animal}. It was {verb} happily while eating a {food}.\"\n",
        "\n",
        "# Step 3: Display the final story\n",
        "print(\"\\nYour Mad Libs Story:\")\n",
        "print(story)"
      ]
    }
  ]
}